{
 "cells": [
  {
   "cell_type": "markdown",
   "metadata": {},
   "source": [
    "## Observations and Insights"
   ]
  },
  {
   "cell_type": "markdown",
   "metadata": {},
   "source": [
    "A few things stuck out to me upon completing the exercise and looking more closely at the results. \n",
    "\n",
    "   Firstly, mouse weight and average tumor size seemed to correlate fairly well when analyzing the scatter plot detailing this relationship for mice treated with the Capomulin drug regimen; with an r-square value of 0.70886, we see a fairly positive relationship between these two variables. Of course, these results only apply to mice treated with Capomulin, so it would be interesting to analyze this relationship may change for other treatment regimens. Another consideration would be to control for weight to analyze mice of the same size in order to determine how the tumor volume changes independent of how much an individual mouse weighs. \n",
    "   Another takeaway I had is that, according to my analysis, there were no outliers for the top four regimens' (top four regimens determined by greatest average reduction in tumor volume) tumor volume. This is something worth looking further into, as it wouldn't be surprising to encounter at least one outlier (perhaps in the form of a mouse that saw their tumor volume greatly increase or decrease due to reasons other than the drug treatment). Still, with no outliers skewing the data as it stands currently, we can be fairly confident that our data is good and insights can be extracted from it. \n",
    "   Lastly, I looked at the boxplots depicting the final tumor volumes for the top four treatment regimens. It is clear upon viewing the plot that Ramicane and Capomulin had smaller final tumor volumes than Propriva and Ceftamin. While one can ascertain from this information that Ramicane and Capomulin are more effective at treating cancer than Propriva and Ceftamin, this may not necessarily be the case. This plot only shows the size of the final tumors for mice treated with these regimens, and does not consider the volume of the tumor intially before treatment began. Perhaps a better method of determining the most effective treatment regimens would look at the reduction of tumor size rather than solely the final tumor size; for example, a drug that decreases a tumor's volume from 40 mm3 to 20 mm3 (50% reduction) is more effective than a drug that decreases a tumor's volume from 50 mm3 to 30 mm3 (40% reduction). It would be interesting to per\n",
    "   "
   ]
  },
  {
   "cell_type": "markdown",
   "metadata": {},
   "source": [
    "## Dependencies and starter code"
   ]
  },
  {
   "cell_type": "code",
   "execution_count": 255,
   "metadata": {},
   "outputs": [
    {
     "data": {
      "text/html": [
       "<div>\n",
       "<style scoped>\n",
       "    .dataframe tbody tr th:only-of-type {\n",
       "        vertical-align: middle;\n",
       "    }\n",
       "\n",
       "    .dataframe tbody tr th {\n",
       "        vertical-align: top;\n",
       "    }\n",
       "\n",
       "    .dataframe thead th {\n",
       "        text-align: right;\n",
       "    }\n",
       "</style>\n",
       "<table border=\"1\" class=\"dataframe\">\n",
       "  <thead>\n",
       "    <tr style=\"text-align: right;\">\n",
       "      <th></th>\n",
       "      <th>Mouse ID</th>\n",
       "      <th>Drug Regimen</th>\n",
       "      <th>Sex</th>\n",
       "      <th>Age_months</th>\n",
       "      <th>Weight (g)</th>\n",
       "      <th>Timepoint</th>\n",
       "      <th>Tumor Volume (mm3)</th>\n",
       "      <th>Metastatic Sites</th>\n",
       "    </tr>\n",
       "  </thead>\n",
       "  <tbody>\n",
       "    <tr>\n",
       "      <td>0</td>\n",
       "      <td>k403</td>\n",
       "      <td>Ramicane</td>\n",
       "      <td>Male</td>\n",
       "      <td>21</td>\n",
       "      <td>16</td>\n",
       "      <td>0</td>\n",
       "      <td>45.000000</td>\n",
       "      <td>0</td>\n",
       "    </tr>\n",
       "    <tr>\n",
       "      <td>1</td>\n",
       "      <td>k403</td>\n",
       "      <td>Ramicane</td>\n",
       "      <td>Male</td>\n",
       "      <td>21</td>\n",
       "      <td>16</td>\n",
       "      <td>5</td>\n",
       "      <td>38.825898</td>\n",
       "      <td>0</td>\n",
       "    </tr>\n",
       "    <tr>\n",
       "      <td>2</td>\n",
       "      <td>k403</td>\n",
       "      <td>Ramicane</td>\n",
       "      <td>Male</td>\n",
       "      <td>21</td>\n",
       "      <td>16</td>\n",
       "      <td>10</td>\n",
       "      <td>35.014271</td>\n",
       "      <td>1</td>\n",
       "    </tr>\n",
       "    <tr>\n",
       "      <td>3</td>\n",
       "      <td>k403</td>\n",
       "      <td>Ramicane</td>\n",
       "      <td>Male</td>\n",
       "      <td>21</td>\n",
       "      <td>16</td>\n",
       "      <td>15</td>\n",
       "      <td>34.223992</td>\n",
       "      <td>1</td>\n",
       "    </tr>\n",
       "    <tr>\n",
       "      <td>4</td>\n",
       "      <td>k403</td>\n",
       "      <td>Ramicane</td>\n",
       "      <td>Male</td>\n",
       "      <td>21</td>\n",
       "      <td>16</td>\n",
       "      <td>20</td>\n",
       "      <td>32.997729</td>\n",
       "      <td>1</td>\n",
       "    </tr>\n",
       "    <tr>\n",
       "      <td>...</td>\n",
       "      <td>...</td>\n",
       "      <td>...</td>\n",
       "      <td>...</td>\n",
       "      <td>...</td>\n",
       "      <td>...</td>\n",
       "      <td>...</td>\n",
       "      <td>...</td>\n",
       "      <td>...</td>\n",
       "    </tr>\n",
       "    <tr>\n",
       "      <td>1888</td>\n",
       "      <td>z969</td>\n",
       "      <td>Naftisol</td>\n",
       "      <td>Male</td>\n",
       "      <td>9</td>\n",
       "      <td>30</td>\n",
       "      <td>25</td>\n",
       "      <td>63.145652</td>\n",
       "      <td>2</td>\n",
       "    </tr>\n",
       "    <tr>\n",
       "      <td>1889</td>\n",
       "      <td>z969</td>\n",
       "      <td>Naftisol</td>\n",
       "      <td>Male</td>\n",
       "      <td>9</td>\n",
       "      <td>30</td>\n",
       "      <td>30</td>\n",
       "      <td>65.841013</td>\n",
       "      <td>3</td>\n",
       "    </tr>\n",
       "    <tr>\n",
       "      <td>1890</td>\n",
       "      <td>z969</td>\n",
       "      <td>Naftisol</td>\n",
       "      <td>Male</td>\n",
       "      <td>9</td>\n",
       "      <td>30</td>\n",
       "      <td>35</td>\n",
       "      <td>69.176246</td>\n",
       "      <td>4</td>\n",
       "    </tr>\n",
       "    <tr>\n",
       "      <td>1891</td>\n",
       "      <td>z969</td>\n",
       "      <td>Naftisol</td>\n",
       "      <td>Male</td>\n",
       "      <td>9</td>\n",
       "      <td>30</td>\n",
       "      <td>40</td>\n",
       "      <td>70.314904</td>\n",
       "      <td>4</td>\n",
       "    </tr>\n",
       "    <tr>\n",
       "      <td>1892</td>\n",
       "      <td>z969</td>\n",
       "      <td>Naftisol</td>\n",
       "      <td>Male</td>\n",
       "      <td>9</td>\n",
       "      <td>30</td>\n",
       "      <td>45</td>\n",
       "      <td>73.867845</td>\n",
       "      <td>4</td>\n",
       "    </tr>\n",
       "  </tbody>\n",
       "</table>\n",
       "<p>1893 rows × 8 columns</p>\n",
       "</div>"
      ],
      "text/plain": [
       "     Mouse ID Drug Regimen   Sex  Age_months  Weight (g)  Timepoint  \\\n",
       "0        k403     Ramicane  Male          21          16          0   \n",
       "1        k403     Ramicane  Male          21          16          5   \n",
       "2        k403     Ramicane  Male          21          16         10   \n",
       "3        k403     Ramicane  Male          21          16         15   \n",
       "4        k403     Ramicane  Male          21          16         20   \n",
       "...       ...          ...   ...         ...         ...        ...   \n",
       "1888     z969     Naftisol  Male           9          30         25   \n",
       "1889     z969     Naftisol  Male           9          30         30   \n",
       "1890     z969     Naftisol  Male           9          30         35   \n",
       "1891     z969     Naftisol  Male           9          30         40   \n",
       "1892     z969     Naftisol  Male           9          30         45   \n",
       "\n",
       "      Tumor Volume (mm3)  Metastatic Sites  \n",
       "0              45.000000                 0  \n",
       "1              38.825898                 0  \n",
       "2              35.014271                 1  \n",
       "3              34.223992                 1  \n",
       "4              32.997729                 1  \n",
       "...                  ...               ...  \n",
       "1888           63.145652                 2  \n",
       "1889           65.841013                 3  \n",
       "1890           69.176246                 4  \n",
       "1891           70.314904                 4  \n",
       "1892           73.867845                 4  \n",
       "\n",
       "[1893 rows x 8 columns]"
      ]
     },
     "execution_count": 255,
     "metadata": {},
     "output_type": "execute_result"
    }
   ],
   "source": [
    "# Dependencies and Setup\n",
    "import matplotlib.pyplot as plt\n",
    "import pandas as pd\n",
    "import scipy.stats as st\n",
    "import numpy as np\n",
    "\n",
    "# Study data files\n",
    "mouse_metadata = \"data/Mouse_metadata.csv\"\n",
    "study_results = \"data/Study_results.csv\"\n",
    "\n",
    "# Read the mouse data and the study results\n",
    "mouse_metadata = pd.read_csv(mouse_metadata)\n",
    "study_results = pd.read_csv(study_results)\n",
    "\n",
    "# Combine the data into a single dataset\n",
    "combined_df = pd.merge(mouse_metadata, study_results, how=\"inner\", on=\"Mouse ID\")\n",
    "combined_df"
   ]
  },
  {
   "cell_type": "markdown",
   "metadata": {},
   "source": [
    "## Summary statistics"
   ]
  },
  {
   "cell_type": "code",
   "execution_count": 38,
   "metadata": {},
   "outputs": [
    {
     "data": {
      "text/html": [
       "<div>\n",
       "<style scoped>\n",
       "    .dataframe tbody tr th:only-of-type {\n",
       "        vertical-align: middle;\n",
       "    }\n",
       "\n",
       "    .dataframe tbody tr th {\n",
       "        vertical-align: top;\n",
       "    }\n",
       "\n",
       "    .dataframe thead th {\n",
       "        text-align: right;\n",
       "    }\n",
       "</style>\n",
       "<table border=\"1\" class=\"dataframe\">\n",
       "  <thead>\n",
       "    <tr style=\"text-align: right;\">\n",
       "      <th></th>\n",
       "      <th>Mean</th>\n",
       "      <th>Median</th>\n",
       "      <th>Variance</th>\n",
       "      <th>Standard Deviation</th>\n",
       "      <th>Standard Error</th>\n",
       "    </tr>\n",
       "    <tr>\n",
       "      <th>Drug Regimen</th>\n",
       "      <th></th>\n",
       "      <th></th>\n",
       "      <th></th>\n",
       "      <th></th>\n",
       "      <th></th>\n",
       "    </tr>\n",
       "  </thead>\n",
       "  <tbody>\n",
       "    <tr>\n",
       "      <td>Capomulin</td>\n",
       "      <td>40.675741</td>\n",
       "      <td>41.557809</td>\n",
       "      <td>24.947764</td>\n",
       "      <td>4.994774</td>\n",
       "      <td>0.329346</td>\n",
       "    </tr>\n",
       "    <tr>\n",
       "      <td>Ceftamin</td>\n",
       "      <td>52.591172</td>\n",
       "      <td>51.776157</td>\n",
       "      <td>39.290177</td>\n",
       "      <td>6.268188</td>\n",
       "      <td>0.469821</td>\n",
       "    </tr>\n",
       "    <tr>\n",
       "      <td>Infubinol</td>\n",
       "      <td>52.884795</td>\n",
       "      <td>51.820584</td>\n",
       "      <td>43.128684</td>\n",
       "      <td>6.567243</td>\n",
       "      <td>0.492236</td>\n",
       "    </tr>\n",
       "    <tr>\n",
       "      <td>Ketapril</td>\n",
       "      <td>55.235638</td>\n",
       "      <td>53.698743</td>\n",
       "      <td>68.553577</td>\n",
       "      <td>8.279709</td>\n",
       "      <td>0.603860</td>\n",
       "    </tr>\n",
       "    <tr>\n",
       "      <td>Naftisol</td>\n",
       "      <td>54.331565</td>\n",
       "      <td>52.509285</td>\n",
       "      <td>66.173479</td>\n",
       "      <td>8.134708</td>\n",
       "      <td>0.596466</td>\n",
       "    </tr>\n",
       "    <tr>\n",
       "      <td>Placebo</td>\n",
       "      <td>54.033581</td>\n",
       "      <td>52.288934</td>\n",
       "      <td>61.168083</td>\n",
       "      <td>7.821003</td>\n",
       "      <td>0.581331</td>\n",
       "    </tr>\n",
       "    <tr>\n",
       "      <td>Propriva</td>\n",
       "      <td>52.322552</td>\n",
       "      <td>50.854632</td>\n",
       "      <td>42.351070</td>\n",
       "      <td>6.507770</td>\n",
       "      <td>0.512884</td>\n",
       "    </tr>\n",
       "    <tr>\n",
       "      <td>Ramicane</td>\n",
       "      <td>40.216745</td>\n",
       "      <td>40.673236</td>\n",
       "      <td>23.486704</td>\n",
       "      <td>4.846308</td>\n",
       "      <td>0.320955</td>\n",
       "    </tr>\n",
       "    <tr>\n",
       "      <td>Stelasyn</td>\n",
       "      <td>54.233149</td>\n",
       "      <td>52.431737</td>\n",
       "      <td>59.450562</td>\n",
       "      <td>7.710419</td>\n",
       "      <td>0.573111</td>\n",
       "    </tr>\n",
       "    <tr>\n",
       "      <td>Zoniferol</td>\n",
       "      <td>53.236507</td>\n",
       "      <td>51.818479</td>\n",
       "      <td>48.533355</td>\n",
       "      <td>6.966589</td>\n",
       "      <td>0.516398</td>\n",
       "    </tr>\n",
       "  </tbody>\n",
       "</table>\n",
       "</div>"
      ],
      "text/plain": [
       "                   Mean     Median   Variance  Standard Deviation  \\\n",
       "Drug Regimen                                                        \n",
       "Capomulin     40.675741  41.557809  24.947764            4.994774   \n",
       "Ceftamin      52.591172  51.776157  39.290177            6.268188   \n",
       "Infubinol     52.884795  51.820584  43.128684            6.567243   \n",
       "Ketapril      55.235638  53.698743  68.553577            8.279709   \n",
       "Naftisol      54.331565  52.509285  66.173479            8.134708   \n",
       "Placebo       54.033581  52.288934  61.168083            7.821003   \n",
       "Propriva      52.322552  50.854632  42.351070            6.507770   \n",
       "Ramicane      40.216745  40.673236  23.486704            4.846308   \n",
       "Stelasyn      54.233149  52.431737  59.450562            7.710419   \n",
       "Zoniferol     53.236507  51.818479  48.533355            6.966589   \n",
       "\n",
       "              Standard Error  \n",
       "Drug Regimen                  \n",
       "Capomulin           0.329346  \n",
       "Ceftamin            0.469821  \n",
       "Infubinol           0.492236  \n",
       "Ketapril            0.603860  \n",
       "Naftisol            0.596466  \n",
       "Placebo             0.581331  \n",
       "Propriva            0.512884  \n",
       "Ramicane            0.320955  \n",
       "Stelasyn            0.573111  \n",
       "Zoniferol           0.516398  "
      ]
     },
     "execution_count": 38,
     "metadata": {},
     "output_type": "execute_result"
    }
   ],
   "source": [
    "# Generate a summary statistics table of mean, median, variance, standard deviation, and SEM of the tumor volume for each regimen\n",
    "\n",
    "#Grouping data by \"Drug Regimen\" column\n",
    "grouped_regimens = combined_df.groupby([\"Drug Regimen\"])\n",
    "\n",
    "#Getting tumor mean column\n",
    "tumor_mean_df = grouped_regimens.mean()\n",
    "tumor_mean = tumor_mean_df[\"Tumor Volume (mm3)\"]\n",
    "tumor_mean\n",
    "\n",
    "#Getting tumor median column\n",
    "tumor_med_df = grouped_regimens.median()\n",
    "tumor_med = tumor_med_df[\"Tumor Volume (mm3)\"]\n",
    "tumor_med\n",
    "\n",
    "#Getting tumor variance column\n",
    "tumor_var_df = grouped_regimens.var()\n",
    "tumor_var = tumor_var_df[\"Tumor Volume (mm3)\"]\n",
    "tumor_var\n",
    "\n",
    "#Getting tumor st deviation column\n",
    "tumor_std_df = grouped_regimens.std()\n",
    "tumor_std = tumor_std_df[\"Tumor Volume (mm3)\"]\n",
    "tumor_std\n",
    "\n",
    "#Getting tumor SEM column\n",
    "tumor_sem_df = grouped_regimens.sem()\n",
    "tumor_sem = tumor_sem_df[\"Tumor Volume (mm3)\"]\n",
    "tumor_sem\n",
    "\n",
    "#Constructing DataFrame\n",
    "frame = {'Mean': tumor_mean, 'Median': tumor_med,\n",
    "         'Variance': tumor_var, 'Standard Deviation': tumor_std,\n",
    "         'Standard Error': tumor_sem}\n",
    "\n",
    "summary_stats_df = pd.DataFrame(frame)\n",
    "summary_stats_df"
   ]
  },
  {
   "cell_type": "markdown",
   "metadata": {},
   "source": [
    "## Bar plots"
   ]
  },
  {
   "cell_type": "code",
   "execution_count": 400,
   "metadata": {},
   "outputs": [
    {
     "data": {
      "text/plain": [
       "<matplotlib.axes._subplots.AxesSubplot at 0x1a1dcbf410>"
      ]
     },
     "execution_count": 400,
     "metadata": {},
     "output_type": "execute_result"
    },
    {
     "data": {
      "image/png": "[encoded data removed]",
      "text/plain": [
       "<Figure size 432x288 with 1 Axes>"
      ]
     },
     "metadata": {
      "needs_background": "light"
     },
     "output_type": "display_data"
    }
   ],
   "source": [
    "# Generate a bar plot showing number of data points for each treatment regimen using pandas\n",
    "regimen_count = combined_df.groupby([\"Drug Regimen\"]).count()\n",
    "regimen_count[\"Number of Treatments\"] = regimen_count[\"Mouse ID\"]\n",
    "\n",
    "regimen_count.plot.bar(y=[\"Number of Treatments\"], rot=45, title=\"Number of Treatments by Drug\")\n",
    "\n"
   ]
  },
  {
   "cell_type": "code",
   "execution_count": 80,
   "metadata": {},
   "outputs": [
    {
     "data": {
      "text/plain": [
       "Text(0.5, 0, 'Drug Treatment Regimen')"
      ]
     },
     "execution_count": 80,
     "metadata": {},
     "output_type": "execute_result"
    },
    {
     "data": {
      "image/png": "[encoded data removed]",
      "text/plain": [
       "<Figure size 432x288 with 1 Axes>"
      ]
     },
     "metadata": {
      "needs_background": "light"
     },
     "output_type": "display_data"
    }
   ],
   "source": [
    "# Generate a bar plot showing number of data points for each treatment regimen using pyplot\n",
    "x = list(regimen_count.index.values)\n",
    "y = regimen_count[\"Number of Treatments\"]\n",
    "plt.bar(x,y)\n",
    "plt.xticks(rotation=45)\n",
    "plt.title(\"Number of Treatments by Drug\")\n",
    "plt.ylabel(\"Number of Treatments\")\n",
    "plt.xlabel(\"Drug Treatment Regimen\")"
   ]
  },
  {
   "cell_type": "markdown",
   "metadata": {},
   "source": [
    "## Pie plots"
   ]
  },
  {
   "cell_type": "code",
   "execution_count": 323,
   "metadata": {},
   "outputs": [
    {
     "data": {
      "text/plain": [
       "<matplotlib.axes._subplots.AxesSubplot at 0x1a1ca3c550>"
      ]
     },
     "execution_count": 323,
     "metadata": {},
     "output_type": "execute_result"
    },
    {
     "data": {
      "image/png": "[encoded data removed]",
      "text/plain": [
       "<Figure size 360x360 with 1 Axes>"
      ]
     },
     "metadata": {},
     "output_type": "display_data"
    }
   ],
   "source": [
    "# Generate a pie plot showing the distribution of female versus male mice using pandas\n",
    "\n",
    "#dropping duplicate mouse IDs to get df of unique mice\n",
    "unique_mice = combined_df.drop_duplicates(\"Mouse ID\")\n",
    "\n",
    "#DF of counts for each column grouped by sex of mouse\n",
    "sex_count_groups = unique_mice.groupby(\"Sex\").count()\n",
    "sex_count_groups[\"Number of Mice\"] = sex_count_groups[\"Mouse ID\"]\n",
    "\n",
    "#preparing pie plot\n",
    "mice_list = sex_count_groups[\"Number of Mice\"]\n",
    "labels = mice_list.index\n",
    "\n",
    "sex_count_groups.plot.pie(y='Number of Mice', labels=labels,\n",
    "                          autopct=\"%1.1f%%\", figsize=(5,5),\n",
    "                          title=\"Distribution of Male vs Female Mice\")"
   ]
  },
  {
   "cell_type": "code",
   "execution_count": 348,
   "metadata": {},
   "outputs": [
    {
     "data": {
      "image/png": "[encoded data removed]",
      "text/plain": [
       "<Figure size 432x288 with 1 Axes>"
      ]
     },
     "metadata": {},
     "output_type": "display_data"
    }
   ],
   "source": [
    "# Generate a pie plot showing the distribution of female versus male mice using pyplot\n",
    "\n",
    "# Preparing plt pie plot\n",
    "x = mice_list\n",
    "labels = sex_count_groups.index\n",
    "\n",
    "plt.title(\"Distribution of Male vs Female Mice\")\n",
    "plt.pie(x = x, labels=labels, autopct=\"%1.1f%%\", radius=1.0, shadow=True)\n",
    "plt.show()\n"
   ]
  },
  {
   "cell_type": "markdown",
   "metadata": {},
   "source": [
    "## Quartiles, outliers and boxplots"
   ]
  },
  {
   "cell_type": "code",
   "execution_count": 461,
   "metadata": {},
   "outputs": [
    {
     "name": "stdout",
     "output_type": "stream",
     "text": [
      "The IQR for Ramicane is: 9.098536719999998\n",
      "The IQR for Capomulin is: 7.781863460000004\n",
      "The IQR for Propriva is: 13.447910629999996\n",
      "The IQR for Ceftamin is: 15.577752179999997\n"
     ]
    },
    {
     "data": {
      "text/html": [
       "<div>\n",
       "<style scoped>\n",
       "    .dataframe tbody tr th:only-of-type {\n",
       "        vertical-align: middle;\n",
       "    }\n",
       "\n",
       "    .dataframe tbody tr th {\n",
       "        vertical-align: top;\n",
       "    }\n",
       "\n",
       "    .dataframe thead th {\n",
       "        text-align: right;\n",
       "    }\n",
       "</style>\n",
       "<table border=\"1\" class=\"dataframe\">\n",
       "  <thead>\n",
       "    <tr style=\"text-align: right;\">\n",
       "      <th></th>\n",
       "      <th>Mouse ID</th>\n",
       "      <th>Drug Regimen</th>\n",
       "      <th>Sex</th>\n",
       "      <th>Age_months</th>\n",
       "      <th>Weight (g)</th>\n",
       "      <th>Timepoint</th>\n",
       "      <th>Tumor Volume (mm3)</th>\n",
       "      <th>Metastatic Sites</th>\n",
       "    </tr>\n",
       "  </thead>\n",
       "  <tbody>\n",
       "  </tbody>\n",
       "</table>\n",
       "</div>"
      ],
      "text/plain": [
       "Empty DataFrame\n",
       "Columns: [Mouse ID, Drug Regimen, Sex, Age_months, Weight (g), Timepoint, Tumor Volume (mm3), Metastatic Sites]\n",
       "Index: []"
      ]
     },
     "execution_count": 461,
     "metadata": {},
     "output_type": "execute_result"
    }
   ],
   "source": [
    "# Calculate the final tumor volume of each mouse across four of the most promising treatment regimens. Calculate the IQR and quantitatively determine if there are any potential outliers.\n",
    "#combined_df.groupby[\"Mouse ID\"]\n",
    "\n",
    "# Creating DF to find final tumor volume for each mouse; used groupby and idxmax to see what tumor\n",
    "# volume is at the highest(final) timepoint\n",
    "tumor_vol_final = combined_df.loc[combined_df.groupby('Mouse ID')['Timepoint'].idxmax()]\n",
    "tumor_vol_beginning = combined_df.loc[combined_df.groupby('Mouse ID')['Timepoint'].idxmin()]\n",
    "\n",
    "# Finding the four most promising regimens\n",
    "grouped_final_tumor = tumor_vol_final.groupby(\"Drug Regimen\").mean()\n",
    "sorted_final_tumor = grouped_final_tumor.sort_values(by=[\"Tumor Volume (mm3)\"], ascending=True)\n",
    "top_four = sorted_final_tumor.iloc[0:4][\"Tumor Volume (mm3)\"]\n",
    "\n",
    "# Creating DFs for each of the top four regimens to find final tumor volume for each mouse \n",
    "ramicane_df = tumor_vol_final.loc[tumor_vol_final[\"Drug Regimen\"] == \"Ramicane\"]\n",
    "ramicane = ramicane_df[\"Tumor Volume (mm3)\"]\n",
    "\n",
    "capomulin_df = tumor_vol_final.loc[tumor_vol_final[\"Drug Regimen\"] == \"Capomulin\"]\n",
    "capomulin = capomulin_df[\"Tumor Volume (mm3)\"]\n",
    "\n",
    "propriva_df = tumor_vol_final.loc[tumor_vol_final[\"Drug Regimen\"] == \"Propriva\"]\n",
    "propriva = propriva_df[\"Tumor Volume (mm3)\"]\n",
    "\n",
    "ceftamin_df = tumor_vol_final.loc[tumor_vol_final[\"Drug Regimen\"] == \"Ceftamin\"]\n",
    "ceftamin = ceftamin_df[\"Tumor Volume (mm3)\"]\n",
    "\n",
    "# Gathering IQRs for each drug treatment regimen\n",
    "ramicane_iqr = st.iqr(ramicane)\n",
    "capomulin_iqr = st.iqr(capomulin)\n",
    "propriva_iqr = st.iqr(propriva)\n",
    "ceftamin_iqr = st.iqr(ceftamin)\n",
    "\n",
    "print(f\"The IQR for Ramicane is: {ramicane_iqr}\")\n",
    "print(f\"The IQR for Capomulin is: {capomulin_iqr}\")\n",
    "print(f\"The IQR for Propriva is: {propriva_iqr}\")\n",
    "print(f\"The IQR for Ceftamin is: {ceftamin_iqr}\")\n",
    "\n",
    "# Checking for outliers; for each regimen get the 25% and 75% by \n",
    "# using the describe method and pulling values using iloc, then \n",
    "# creating upperbound and lowerbound for each regimen\n",
    "ramicane_25 = ramicane.describe().iloc[4]\n",
    "ramicane_75 = ramicane.describe().iloc[6]\n",
    "ramicane_lb = ramicane_25 - (1.5 * ramicane_iqr)\n",
    "ramicane_ub = ramicane_75 + (1.5 * ramicane_iqr)\n",
    "\n",
    "capomulin_25 = capomulin.describe().iloc[4]\n",
    "capomulin_75 = capomulin.describe().iloc[6]\n",
    "capomulin_lb = capomulin_25 - (1.5 * capomulin_iqr)\n",
    "capomulin_ub = capomulin_75 + (1.5 * capomulin_iqr)\n",
    "\n",
    "propriva_25 = propriva.describe().iloc[4]\n",
    "propriva_75 = propriva.describe().iloc[6]\n",
    "propriva_lb = propriva_25 - (1.5 * propriva_iqr)\n",
    "propriva_ub = propriva_75 + (1.5 * propriva_iqr)\n",
    "\n",
    "ceftamin_25 = ceftamin.describe().iloc[4]\n",
    "ceftamin_75 = ceftamin.describe().iloc[6]\n",
    "ceftamin_lb = ceftamin_25 - (1.5 * ceftamin_iqr)\n",
    "ceftamin_ub = ceftamin_75 + (1.5 * ceftamin_iqr)\n",
    "\n",
    "\n",
    "# Checking for outliers for each regimen\n",
    "ramicane_df.loc[ramicane_df[\"Tumor Volume (mm3)\"] < ramicane_lb]\n",
    "ramicane_df.loc[ramicane_df[\"Tumor Volume (mm3)\"] > ramicane_ub]\n",
    "\n",
    "capomulin_df.loc[capomulin_df[\"Tumor Volume (mm3)\"] < capomulin_lb]\n",
    "capomulin_df.loc[capomulin_df[\"Tumor Volume (mm3)\"] > capomulin_ub]\n",
    "\n",
    "propriva_df.loc[propriva_df[\"Tumor Volume (mm3)\"] < propriva_lb]\n",
    "propriva_df.loc[propriva_df[\"Tumor Volume (mm3)\"] > propriva_ub]\n",
    "\n",
    "ceftamin_df.loc[ceftamin_df[\"Tumor Volume (mm3)\"] < ceftamin_lb]\n",
    "ceftamin_df.loc[ceftamin_df[\"Tumor Volume (mm3)\"] > ceftamin_ub]\n",
    "\n",
    "# No outliers after running the above 8 lines individually; there must \n",
    "# be an faster/easier way to do this, but what I did does work"
   ]
  },
  {
   "cell_type": "code",
   "execution_count": 462,
   "metadata": {},
   "outputs": [
    {
     "data": {
      "text/plain": [
       "Text(0.5, 1.0, 'Final Mouse Tumor Volumes (mm3) for the Top Four Treatments')"
      ]
     },
     "execution_count": 462,
     "metadata": {},
     "output_type": "execute_result"
    },
    {
     "data": {
      "image/png": "[encoded data removed]",
      "text/plain": [
       "<Figure size 648x432 with 1 Axes>"
      ]
     },
     "metadata": {
      "needs_background": "light"
     },
     "output_type": "display_data"
    }
   ],
   "source": [
    "# Generate a box plot of the final tumor volume of each mouse across four regimens of interest\n",
    "\n",
    "# Setting up boxplot data list\n",
    "data_to_plot = [ramicane, capomulin, propriva, ceftamin]\n",
    "\n",
    "# Creating figure\n",
    "fig = plt.figure(1, figsize=(9, 6))\n",
    "\n",
    "# Create an axes instance\n",
    "ax = fig.add_subplot()\n",
    "\n",
    "# Creating boxplot\n",
    "bp = ax.boxplot(data_to_plot)\n",
    "ax.set_xticklabels([\"Ramicane\", \"Capomulin\", \"Propriva\", \"Ceftamin\"])\n",
    "plt.ylabel(\"Tumor Volume (mm3)\")\n",
    "plt.title(\"Final Mouse Tumor Volumes (mm3) for the Top Four Treatments\")"
   ]
  },
  {
   "cell_type": "markdown",
   "metadata": {},
   "source": [
    "## Line and scatter plots"
   ]
  },
  {
   "cell_type": "code",
   "execution_count": 402,
   "metadata": {},
   "outputs": [
    {
     "data": {
      "text/plain": [
       "Text(0.5, 1.0, 'Tumor Volume (mm3) over Time for Mouse u364')"
      ]
     },
     "execution_count": 402,
     "metadata": {},
     "output_type": "execute_result"
    },
    {
     "data": {
      "image/png": "[encoded data removed]",
      "text/plain": [
       "<Figure size 432x288 with 1 Axes>"
      ]
     },
     "metadata": {
      "needs_background": "light"
     },
     "output_type": "display_data"
    }
   ],
   "source": [
    "# Generate a line plot of time point versus tumor volume for a mouse treated with Capomulin\n",
    "# Using .loc method to create DF of all mice who were treated with Capomulin\n",
    "capomulin_df = combined_df.loc[combined_df[\"Drug Regimen\"] == \"Capomulin\"]\n",
    "\n",
    "# using .sample to find a random mouse id\n",
    "mouse_id = capomulin_df[\"Mouse ID\"].sample()\n",
    "\n",
    "# creating DF of all treatments for the random mouse id that we stored in the \"mouse_id\" variable\n",
    "capomulin_mouse = capomulin_df.loc[capomulin_df[\"Mouse ID\"] == mouse_id.iloc[0]]\n",
    "\n",
    "# creating variables to store x data and y data\n",
    "x = capomulin_mouse[\"Timepoint\"]\n",
    "y = capomulin_mouse[\"Tumor Volume (mm3)\"]\n",
    "\n",
    "plt.plot(x, y)\n",
    "plt.xlabel(\"Timepoint\")\n",
    "plt.ylabel(\"Tumor Volume (mm3)\")\n",
    "plt.title(f\"Tumor Volume (mm3) over Time for Mouse {mouse_id.iloc[0]}\")\n"
   ]
  },
  {
   "cell_type": "code",
   "execution_count": 253,
   "metadata": {},
   "outputs": [
    {
     "data": {
      "image/png": "[encoded data removed]",
      "text/plain": [
       "<Figure size 432x288 with 1 Axes>"
      ]
     },
     "metadata": {
      "needs_background": "light"
     },
     "output_type": "display_data"
    }
   ],
   "source": [
    "# Generate a scatter plot of mouse weight versus average tumor volume for the Capomulin regimen\n",
    "\n",
    "mouse_avg_tumor = capomulin_df.groupby(\"Mouse ID\").mean()\n",
    "\n",
    "# Setting up variables for scatter plot\n",
    "x = mouse_avg_tumor[\"Weight (g)\"]\n",
    "y = mouse_avg_tumor[\"Tumor Volume (mm3)\"]\n",
    "\n",
    "# Creating scatter plot\n",
    "plt.scatter(x, y)\n",
    "plt.xlabel(\"Weight (g)\")\n",
    "plt.ylabel(\"Tumor Voliume (mm3)\")\n",
    "plt.title(\"Mouse Weight vs Avg Tumor Volume for Mice Treated with Capomulin\")\n",
    "plt.show()"
   ]
  },
  {
   "cell_type": "code",
   "execution_count": 410,
   "metadata": {},
   "outputs": [
    {
     "data": {
      "image/png": "[encoded data removed]",
      "text/plain": [
       "<Figure size 432x288 with 1 Axes>"
      ]
     },
     "metadata": {
      "needs_background": "light"
     },
     "output_type": "display_data"
    },
    {
     "name": "stdout",
     "output_type": "stream",
     "text": [
      "The correlation cooefficient is: 0.7088568047708715\n"
     ]
    }
   ],
   "source": [
    "# Calculate the correlation coefficient and linear regression model for mouse weight and average tumor volume for the Capomulin regimen\n",
    "\n",
    "# Calculating correlation coefficient \n",
    "r = np.corrcoef(x, y)\n",
    "r_value = r[0,1]\n",
    "r_square = r_value*r_value\n",
    "\n",
    "# Setting up scatter/linear regression plot\n",
    "x = mouse_avg_tumor[\"Weight (g)\"]\n",
    "y = mouse_avg_tumor[\"Tumor Volume (mm3)\"]\n",
    "\n",
    "# Defining linear regression line equation\n",
    "slope, intercept, rvalue, pvalue, stderr = st.linregress(x,y)\n",
    "regression_value = x * slope + intercept\n",
    "line_eq = \"y = \" + str(round(slope,2)) + \"x + \" + str(round(intercept,2))\n",
    "\n",
    "# Creating scatter plot\n",
    "plt.scatter(x, y)\n",
    "plt.xlabel(\"Weight (g)\")\n",
    "plt.ylabel(\"Tumor Volume (mm3)\")\n",
    "plt.title(\"Mouse Weight vs Avg Tumor Volume for Mice Treated with Capomulin\")\n",
    "\n",
    "# Adding linear regression line\n",
    "plt.plot(x, regression_value,\"r-\")\n",
    "plt.annotate(line_eq, (20,36), fontsize=15, color=\"r\")\n",
    "\n",
    "plt.show()\n",
    "\n",
    "# Printing r-square value\n",
    "print(f\"The correlation cooefficient is: {r_square}\")\n",
    "\n"
   ]
  }
 ],
 "metadata": {
  "anaconda-cloud": {},
  "kernelspec": {
   "display_name": "Python 3",
   "language": "python",
   "name": "python3"
  },
  "language_info": {
   "codemirror_mode": {
    "name": "ipython",
    "version": 3
   },
   "file_extension": ".py",
   "mimetype": "text/x-python",
   "name": "python",
   "nbconvert_exporter": "python",
   "pygments_lexer": "ipython3",
   "version": "3.7.4"
  }
 },
 "nbformat": 4,
 "nbformat_minor": 2
}
